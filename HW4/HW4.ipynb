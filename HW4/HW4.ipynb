{
  "nbformat": 4,
  "nbformat_minor": 0,
  "metadata": {
    "colab": {
      "name": "HW4.ipynb",
      "provenance": [],
      "collapsed_sections": []
    },
    "kernelspec": {
      "name": "python3",
      "display_name": "Python 3"
    },
    "language_info": {
      "name": "python"
    }
  },
  "cells": [
    {
      "cell_type": "code",
      "execution_count": 16,
      "metadata": {
        "id": "lCdCQc4sqQIO"
      },
      "outputs": [],
      "source": [
        "import numpy as np\n",
        "import matplotlib.pyplot as plt\n",
        "import sklearn as skl\n",
        "import scipy.spatial "
      ]
    },
    {
      "cell_type": "markdown",
      "source": [
        "## Task 1\n",
        "\n",
        "The first task is to import and preprocess the data set. Construct your output vector y by assigning\n",
        "labels {−1,+1} to members of different parties. Then construct the input vectors x𝑗 corresponding to\n",
        "the voting records of each member by replacing ’y’ votes with +1, ’n’ votes with −1 and ’?’ with 0.\n",
        "You do not need to center and normalize the data set in this case. This leads to a vector y ∈R435 and\n",
        "input matrix 𝑋 ∈R435×16. Note that we are using the sklearn convention for our 𝑋 matrix."
      ],
      "metadata": {
        "id": "T7WurqaH-rhN"
      }
    },
    {
      "cell_type": "code",
      "source": [
        "# Load data\n",
        "temp = (np.loadtxt('drive/MyDrive/AMATH482/HW4/house-votes-84.data', delimiter=',', dtype=object, unpack=True)).T\n",
        "\n",
        "\n",
        "# Preprocess data\n",
        "\n",
        "# New matrix\n",
        "d = np.zeros(temp.shape)\n",
        "\n",
        "rep = ['republican', 'n']\n",
        "dem = ['democrat', 'y']\n",
        "\n",
        "# Iterate through temp and replace values\n",
        "for i in range(d.shape[0]):\n",
        "  row = temp[i]\n",
        "  for j in range(d.shape[1]):\n",
        "    if row[j] in rep:\n",
        "      d[i,j] = -1\n",
        "    elif row[j] in dem:\n",
        "      d[i,j] = 1\n",
        "    else:\n",
        "      d[i,j] = 0\n",
        "print(temp)\n",
        "print(d)\n",
        "\n",
        "X = d[:,1:]\n",
        "y = d[:,0]"
      ],
      "metadata": {
        "colab": {
          "base_uri": "https://localhost:8080/"
        },
        "id": "AviIVn5791CR",
        "outputId": "c5cc3da0-f140-498f-c39f-f9991260f779"
      },
      "execution_count": 76,
      "outputs": [
        {
          "output_type": "stream",
          "name": "stdout",
          "text": [
            "[['republican' 'n' 'y' ... 'y' 'n' 'y']\n",
            " ['republican' 'n' 'y' ... 'y' 'n' '?']\n",
            " ['democrat' '?' 'y' ... 'y' 'n' 'n']\n",
            " ...\n",
            " ['republican' 'n' '?' ... 'y' 'n' 'y']\n",
            " ['republican' 'n' 'n' ... 'y' 'n' 'y']\n",
            " ['republican' 'n' 'y' ... 'y' '?' 'n']]\n",
            "[[-1. -1.  1. ...  1. -1.  1.]\n",
            " [-1. -1.  1. ...  1. -1.  0.]\n",
            " [ 1.  0.  1. ...  1. -1. -1.]\n",
            " ...\n",
            " [-1. -1.  0. ...  1. -1.  1.]\n",
            " [-1. -1. -1. ...  1. -1.  1.]\n",
            " [-1. -1.  1. ...  1.  0. -1.]]\n"
          ]
        }
      ]
    },
    {
      "cell_type": "markdown",
      "source": [
        "## Task 2: Spectral Clustering\n",
        "\n",
        "Construct the unnormalized graph Laplacian matrix on 𝑋 with variance parameter 𝜎 and compute its second eigenvector (i.e., the Fiedler vector) which we\n",
        "denote as q1."
      ],
      "metadata": {
        "id": "iustvuzoNfMJ"
      }
    },
    {
      "cell_type": "code",
      "source": [
        "# Weight function for creation of weight matrix W\n",
        "def eta(tt, rr):\n",
        "\n",
        " val = np.exp( - (tt**2)/(2*rr**2) ) \n",
        "  \n",
        " return val.astype(float)"
      ],
      "metadata": {
        "id": "_14fWbBKAzyH"
      },
      "execution_count": 41,
      "outputs": []
    },
    {
      "cell_type": "code",
      "source": [
        "dist = scipy.spatial.distance_matrix( X, X, p =2)"
      ],
      "metadata": {
        "id": "NigC7B8-7OWs"
      },
      "execution_count": 77,
      "outputs": []
    },
    {
      "cell_type": "code",
      "source": [
        "# Create classifier from second eigenvector\n",
        "\n",
        "# Find optimal value for sigma\n",
        "sigmas = np.arange(.01, 4, .01)\n",
        "\n",
        "accuracies = []\n",
        "\n",
        "for s in sigmas:\n",
        "  W = eta(dist, s)\n",
        "  # Compute Laplacian matrix\n",
        "  d = np.sum(W, axis=1) # degree vector\n",
        "\n",
        "  D = np.diag(d)\n",
        "\n",
        "  L = D - W # unnormalized\n",
        "\n",
        "  # compute eigendecompositions \n",
        "\n",
        "  ll, VV = np.linalg.eigh(L)\n",
        "\n",
        "  # we need to sort the eigenvalues and vectors \n",
        "\n",
        "  idx = ll.argsort()\n",
        "  l = ll[idx]\n",
        "  V = VV[:, idx]\n",
        "\n",
        "  # Create classifier from second eigenvector\n",
        "  classifier1 = np.sign(V[:,1])\n",
        "  classifier2 = -np.sign(V[:,1])\n",
        "  count1 = sum(classifier1 == y)\n",
        "  count2 = sum(classifier2 == y)\n",
        "  if count1 > count2:\n",
        "    count = count1\n",
        "  else:\n",
        "    count = count2\n",
        "  \n",
        "  accuracy = count / 435\n",
        "  accuracies.append(accuracy)\n"
      ],
      "metadata": {
        "id": "-R5PzyxNOC2i"
      },
      "execution_count": 80,
      "outputs": []
    },
    {
      "cell_type": "code",
      "source": [
        "print(\"max accuracy: \", np.max(accuracies))\n",
        "print(\"sigma:\", sigmas[np.argmax(accuracies)])\n"
      ],
      "metadata": {
        "colab": {
          "base_uri": "https://localhost:8080/"
        },
        "id": "sx4I3ZdaTCj-",
        "outputId": "9a148ef1-2871-491b-b825-b29833d08802"
      },
      "execution_count": 81,
      "outputs": [
        {
          "output_type": "stream",
          "name": "stdout",
          "text": [
            "max accuracy:  0.8804597701149425\n",
            "sigma: 1.1600000000000001\n"
          ]
        }
      ]
    },
    {
      "cell_type": "code",
      "source": [
        "fig, ax = plt.subplots(figsize=(7,5))\n",
        "ax.scatter(sigmas, accuracies)\n",
        "ax.scatter(sigmas[np.argmax(accuracies)], np.max(accuracies), color=\"red\", label=\"$\\sigma ^ *$\")\n",
        "ax.legend(loc=\"lower right\")\n",
        "ax.set_xlabel(\"$\\sigma$\")\n",
        "ax.set_ylabel(\"Accuracy\")\n",
        "ax.set_title(\"Clustering Accuracy vs $\\sigma$\")"
      ],
      "metadata": {
        "colab": {
          "base_uri": "https://localhost:8080/",
          "height": 370
        },
        "id": "GLuMRiWpn_E-",
        "outputId": "c449a2df-9a22-42b8-8d6d-5df9ea64855d"
      },
      "execution_count": 107,
      "outputs": [
        {
          "output_type": "execute_result",
          "data": {
            "text/plain": [
              "Text(0.5, 1.0, 'Clustering Accuracy vs $\\\\sigma$')"
            ]
          },
          "metadata": {},
          "execution_count": 107
        },
        {
          "output_type": "display_data",
          "data": {
            "text/plain": [
              "<Figure size 504x360 with 1 Axes>"
            ],
            "image/png": "[encoded data removed]"
          },
          "metadata": {
            "needs_background": "light"
          }
        }
      ]
    }
  ]
}